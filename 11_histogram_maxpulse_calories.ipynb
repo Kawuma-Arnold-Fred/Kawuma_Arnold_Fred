{
 "cells": [
  {
   "cell_type": "code",
   "execution_count": null,
   "id": "e76407e2",
   "metadata": {},
   "outputs": [],
   "source": [
    "import pandas as pd\n",
    "import matplotlib as sns\n",
    "import seaborn as plt\n",
    "\n",
    "df = pd.read_csv('data.csv')\n"
   ]
  }
 ],
 "metadata": {
  "kernelspec": {
   "display_name": "Python 3",
   "language": "python",
   "name": "python3"
  },
  "language_info": {
   "name": "python",
   "version": "3.12.3"
  }
 },
 "nbformat": 4,
 "nbformat_minor": 5
}
